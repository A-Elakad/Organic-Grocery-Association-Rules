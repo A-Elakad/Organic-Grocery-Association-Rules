{
  "nbformat": 4,
  "nbformat_minor": 0,
  "metadata": {
    "colab": {
      "provenance": [],
      "authorship_tag": "ABX9TyMSthB+cUsG3VduKe2L3Ard",
      "include_colab_link": true
    },
    "kernelspec": {
      "name": "python3",
      "display_name": "Python 3"
    },
    "language_info": {
      "name": "python"
    }
  },
  "cells": [
    {
      "cell_type": "markdown",
      "metadata": {
        "id": "view-in-github",
        "colab_type": "text"
      },
      "source": [
        "<a href=\"https://colab.research.google.com/github/A-Elakad/Organic-Grocery-Association-Rules/blob/main/Organic_Grocery_Association_Rules_.ipynb\" target=\"_parent\"><img src=\"https://colab.research.google.com/assets/colab-badge.svg\" alt=\"Open In Colab\"/></a>"
      ]
    },
    {
      "cell_type": "code",
      "execution_count": null,
      "metadata": {
        "id": "TDWeDCVdetuR"
      },
      "outputs": [],
      "source": [
        "import pandas as pd\n",
        "import numpy as np\n",
        "import matplotlib.pyplot as plt\n",
        "import seaborn as sns\n",
        "from mlxtend.frequent_patterns import apriori\n",
        "from mlxtend.preprocessing import TransactionEncoder\n",
        "from mlxtend.frequent_patterns import association_rules\n",
        "from sklearn.preprocessing import MultiLabelBinarizer\n",
        "from sklearn.cluster import AgglomerativeClustering\n",
        "from scipy.spatial.distance import pdist, squareform"
      ]
    },
    {
      "cell_type": "code",
      "source": [
        "main_frame = pd.read_csv('/content/sales.csv')"
      ],
      "metadata": {
        "id": "zt61vC1GexJB"
      },
      "execution_count": null,
      "outputs": []
    },
    {
      "cell_type": "code",
      "source": [
        "main_frame['product_name'].nunique()"
      ],
      "metadata": {
        "id": "a2ON_RD7hJtR"
      },
      "execution_count": null,
      "outputs": []
    },
    {
      "cell_type": "code",
      "source": [
        "main_frame['product_id'].nunique()"
      ],
      "metadata": {
        "id": "_SkfqIMxhNHS"
      },
      "execution_count": null,
      "outputs": []
    },
    {
      "cell_type": "code",
      "source": [
        "main_frame['product_name'].isnull().sum()"
      ],
      "metadata": {
        "id": "b1NHTTqVhPtX"
      },
      "execution_count": null,
      "outputs": []
    },
    {
      "cell_type": "code",
      "source": [
        "df = main_frame.drop(['order_delivery_cost','product_price','order_total_products_price','product_stock','order_total_price','order_customer_type','order_date'],axis=1)\n",
        "df"
      ],
      "metadata": {
        "id": "N1iTELeThlJw"
      },
      "execution_count": null,
      "outputs": []
    },
    {
      "cell_type": "code",
      "source": [
        "df.isnull().sum()"
      ],
      "metadata": {
        "id": "6YHVCHBFh7Yu"
      },
      "execution_count": null,
      "outputs": []
    },
    {
      "cell_type": "code",
      "source": [
        "# Replace 'column_name' with the name of the column you want to check\n",
        "rows_with_null = df[df['product_name'].isnull()]\n",
        "\n",
        "# Display the rows\n",
        "rows_with_null['product_id'].unique()"
      ],
      "metadata": {
        "id": "baUtPiv5iDlY"
      },
      "execution_count": null,
      "outputs": []
    },
    {
      "cell_type": "code",
      "source": [
        "# Assuming 'column_name' is the column where you want to check the occurrences\n",
        "values_to_check = [\n",
        "    '65c69a336fbd3f330902e522', '65c6ad2db41824de3a0e810a',\n",
        "    '65c6ab58b1cef436b60fc512', '65c6b0018b0b17cfd90c4f45',\n",
        "    '65c6b2de3b0f70dd0d0721f5', '65c773dcbdf63d214e0bce44',\n",
        "    '65c6ac532d470f225101de13', '65c69a3f52f83b6f7307a884',\n",
        "    '65c693a3e437225e2d079122', '65c6b345c1ea7c9ce70e5488',\n",
        "    '65c69be7434f321680034873', '65c695d3c38dda787c034042',\n",
        "    '65c69c32434f32168003487c', '65c6b18508ca2a15a500b522',\n",
        "    '664a0b0324c765989b0dc354'\n",
        "]\n",
        "\n",
        "# Filter the DataFrame to include only rows where the column contains values from the array\n",
        "filtered_df = df[df['product_id'].isin(values_to_check)]\n",
        "\n",
        "# Count occurrences of each value in the filtered DataFrame\n",
        "value_counts = filtered_df['product_id'].value_counts()\n",
        "\n",
        "# Display the result\n",
        "print(value_counts)\n"
      ],
      "metadata": {
        "id": "ddx2pM4Mi6Mu"
      },
      "execution_count": null,
      "outputs": []
    },
    {
      "cell_type": "code",
      "source": [
        "# Create a dictionary to map product names to encoded values\n",
        "product_encoder = {product_name: idx for idx, product_name in enumerate(df['product_name'].unique())}\n",
        "\n",
        "# Create a reverse dictionary to decode encoded values back to product names\n",
        "product_decoder = {idx: product_name for product_name, idx in product_encoder.items()}"
      ],
      "metadata": {
        "id": "k94-9cU7jvle"
      },
      "execution_count": null,
      "outputs": []
    },
    {
      "cell_type": "code",
      "source": [
        "# Apply encoding to the 'product_id' column in the original DataFrame\n",
        "df['product_name_encoded'] = df['product_name'].map(product_encoder)"
      ],
      "metadata": {
        "id": "aVeARYLpkKx-"
      },
      "execution_count": null,
      "outputs": []
    },
    {
      "cell_type": "code",
      "source": [
        "# Group orders and perform one-hot encoding (assuming 'order_id' is your order identifier column)\n",
        "grouped_orders = df.groupby('order_id')['product_name_encoded'].apply(list).reset_index()\n",
        "te = TransactionEncoder()\n",
        "te_ary = te.fit(grouped_orders['product_name_encoded']).transform(grouped_orders['product_name_encoded'])\n",
        "df_new = pd.DataFrame(te_ary, columns=te.columns_)"
      ],
      "metadata": {
        "id": "ChfIUDAQkN26"
      },
      "execution_count": null,
      "outputs": []
    },
    {
      "cell_type": "code",
      "source": [
        "order_sizes = df.groupby('order_id')['product_name_encoded'].count()\n",
        "\n",
        "plt.hist(order_sizes, bins=15)\n",
        "plt.xlabel('Number of Products per Order')\n",
        "plt.ylabel('Frequency')\n",
        "_ = plt.title('Distribution of order sizes')"
      ],
      "metadata": {
        "id": "o_kNQZMpkQb3"
      },
      "execution_count": null,
      "outputs": []
    },
    {
      "cell_type": "code",
      "source": [
        "frequent_itemsets = apriori(df_new, min_support=0.008, use_colnames=True)\n",
        "#Extract the itemsets as lists from the sets\n",
        "frequent_itemsets['itemsets'] = frequent_itemsets['itemsets'].apply(list)\n",
        "\n",
        "# One-hot encode the itemsets\n",
        "mlb = MultiLabelBinarizer()\n",
        "itemsets_encoded = mlb.fit_transform(frequent_itemsets['itemsets'])\n",
        "\n",
        "# Create a new DataFrame with one-hot encoded columns\n",
        "itemsets_encoded_df = pd.DataFrame(itemsets_encoded, columns=mlb.classes_)\n",
        "\n",
        "print(frequent_itemsets)"
      ],
      "metadata": {
        "id": "qbvfiBXMlG3H"
      },
      "execution_count": null,
      "outputs": []
    },
    {
      "cell_type": "code",
      "source": [
        "# Modify the decode_itemsets function to handle lists of itemsets\n",
        "def decode_itemsets(itemsets):\n",
        "    # Decode each item in the list of itemsets\n",
        "    return {product_decoder[item] for item in itemsets}\n",
        "\n",
        "# Apply the modified function to decode the itemsets\n",
        "frequent_itemsets['itemsets'] = frequent_itemsets['itemsets'].apply(decode_itemsets)\n",
        "\n",
        "# Print the decoded itemsets\n",
        "print(frequent_itemsets)"
      ],
      "metadata": {
        "id": "fivK52JrQLJc"
      },
      "execution_count": null,
      "outputs": []
    },
    {
      "cell_type": "code",
      "source": [
        "frequent_itemsets.to_excel('frequent_itemsets (Organic).xlsx', index=False)"
      ],
      "metadata": {
        "id": "DqeTWD6AQNOc"
      },
      "execution_count": null,
      "outputs": []
    },
    {
      "cell_type": "code",
      "source": [
        "rules = association_rules(frequent_itemsets, metric=\"confidence\", min_threshold=0.75)\n",
        "\n",
        "rules"
      ],
      "metadata": {
        "id": "sIyvnb-TlRbX"
      },
      "execution_count": null,
      "outputs": []
    },
    {
      "cell_type": "code",
      "source": [
        "# Define a function to decode a frozenset of product IDs\n",
        "def decode_itemset(itemset, product_decoder):\n",
        "  return {product_decoder[item] for item in itemset}\n",
        "\n",
        "# Assuming 'antecedents' and 'consequents' are already in a format that decode_itemset can handle\n",
        "# Decode the 'antecedents' and 'consequents' columns using the product_decoder\n",
        "rules['antecedents_decoded'] = rules['antecedents'].apply(lambda x: decode_itemset(x, product_decoder))\n",
        "rules['consequents_decoded'] = rules['consequents'].apply(lambda x: decode_itemset(x, product_decoder))\n",
        "\n",
        "# Reorder the columns to place 'antecedents_decoded' as the second column and 'consequents_decoded' as the fourth column\n",
        "cols = rules.columns.tolist()\n",
        "\n",
        "# Insert 'antecedents_decoded' after 'antecedents' (second column) and 'consequents_decoded' after 'consequents' (fourth column)\n",
        "cols.insert(1, cols.pop(cols.index('antecedents_decoded')))  # Move 'antecedents_decoded' to second column\n",
        "cols.insert(3, cols.pop(cols.index('consequents_decoded')))  # Move 'consequents_decoded' to fourth column\n",
        "\n",
        "# Reorder the DataFrame based on the new column order\n",
        "rules = rules[cols]\n",
        "\n",
        "# Display the updated DataFrame to verify\n",
        "print(rules.head())"
      ],
      "metadata": {
        "id": "6nmpJSuPlZ1n"
      },
      "execution_count": null,
      "outputs": []
    },
    {
      "cell_type": "code",
      "source": [
        "rules.to_excel('association_rules (Organic).xlsx', index=False)"
      ],
      "metadata": {
        "id": "Z1jJd0HjldTw"
      },
      "execution_count": null,
      "outputs": []
    }
  ]
}