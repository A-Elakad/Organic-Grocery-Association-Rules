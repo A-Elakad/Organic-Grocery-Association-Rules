{
  "nbformat": 4,
  "nbformat_minor": 0,
  "metadata": {
    "colab": {
      "provenance": [],
      "authorship_tag": "ABX9TyPXrv/NzUIP6TbzlAULFy9x",
      "include_colab_link": true
    },
    "kernelspec": {
      "name": "python3",
      "display_name": "Python 3"
    },
    "language_info": {
      "name": "python"
    }
  },
  "cells": [
    {
      "cell_type": "markdown",
      "metadata": {
        "id": "view-in-github",
        "colab_type": "text"
      },
      "source": [
        "<a href=\"https://colab.research.google.com/github/A-Elakad/Organic-Grocery-Association-Rules/blob/main/Organic_Grocery_Association_Rules_.ipynb\" target=\"_parent\"><img src=\"https://colab.research.google.com/assets/colab-badge.svg\" alt=\"Open In Colab\"/></a>"
      ]
    },
    {
      "cell_type": "code",
      "execution_count": null,
      "metadata": {
        "id": "TDWeDCVdetuR"
      },
      "outputs": [],
      "source": [
        "import pandas as pd\n",
        "import numpy as np\n",
        "import matplotlib.pyplot as plt\n",
        "import seaborn as sns\n",
        "from mlxtend.frequent_patterns import apriori\n",
        "from mlxtend.preprocessing import TransactionEncoder\n",
        "from mlxtend.frequent_patterns import association_rules\n",
        "from sklearn.preprocessing import MultiLabelBinarizer\n",
        "from sklearn.cluster import AgglomerativeClustering\n",
        "from scipy.spatial.distance import pdist, squareform"
      ]
    },
    {
      "cell_type": "code",
      "source": [
        "main_frame = pd.read_csv('/content/sales.csv')"
      ],
      "metadata": {
        "colab": {
          "base_uri": "https://localhost:8080/"
        },
        "id": "zt61vC1GexJB",
        "outputId": "8ca97f2c-a278-4526-8723-fe755a2ed3ac"
      },
      "execution_count": null,
      "outputs": [
        {
          "output_type": "stream",
          "name": "stderr",
          "text": [
            "/usr/local/lib/python3.10/dist-packages/ipykernel/ipkernel.py:283: DeprecationWarning: `should_run_async` will not call `transform_cell` automatically in the future. Please pass the result to `transformed_cell` argument and any exception that happen during thetransform in `preprocessing_exc_tuple` in IPython 7.17 and above.\n",
            "  and should_run_async(code)\n"
          ]
        }
      ]
    },
    {
      "cell_type": "code",
      "source": [
        "main_frame['product_name'].nunique()"
      ],
      "metadata": {
        "colab": {
          "base_uri": "https://localhost:8080/"
        },
        "id": "a2ON_RD7hJtR",
        "outputId": "e17f57a6-31cc-41ac-ae5b-ec6877f0df1a"
      },
      "execution_count": null,
      "outputs": [
        {
          "output_type": "stream",
          "name": "stderr",
          "text": [
            "/usr/local/lib/python3.10/dist-packages/ipykernel/ipkernel.py:283: DeprecationWarning: `should_run_async` will not call `transform_cell` automatically in the future. Please pass the result to `transformed_cell` argument and any exception that happen during thetransform in `preprocessing_exc_tuple` in IPython 7.17 and above.\n",
            "  and should_run_async(code)\n"
          ]
        },
        {
          "output_type": "execute_result",
          "data": {
            "text/plain": [
              "225"
            ]
          },
          "metadata": {},
          "execution_count": 3
        }
      ]
    },
    {
      "cell_type": "code",
      "source": [
        "main_frame['product_id'].nunique()"
      ],
      "metadata": {
        "colab": {
          "base_uri": "https://localhost:8080/"
        },
        "id": "_SkfqIMxhNHS",
        "outputId": "a1ce5c87-655a-4ce9-af81-152bfefd46f8"
      },
      "execution_count": null,
      "outputs": [
        {
          "output_type": "stream",
          "name": "stderr",
          "text": [
            "/usr/local/lib/python3.10/dist-packages/ipykernel/ipkernel.py:283: DeprecationWarning: `should_run_async` will not call `transform_cell` automatically in the future. Please pass the result to `transformed_cell` argument and any exception that happen during thetransform in `preprocessing_exc_tuple` in IPython 7.17 and above.\n",
            "  and should_run_async(code)\n"
          ]
        },
        {
          "output_type": "execute_result",
          "data": {
            "text/plain": [
              "240"
            ]
          },
          "metadata": {},
          "execution_count": 4
        }
      ]
    },
    {
      "cell_type": "code",
      "source": [
        "main_frame['product_name'].isnull().sum()"
      ],
      "metadata": {
        "colab": {
          "base_uri": "https://localhost:8080/"
        },
        "id": "b1NHTTqVhPtX",
        "outputId": "81c4e19d-fca3-449c-b513-eaf736594661"
      },
      "execution_count": null,
      "outputs": [
        {
          "output_type": "stream",
          "name": "stderr",
          "text": [
            "/usr/local/lib/python3.10/dist-packages/ipykernel/ipkernel.py:283: DeprecationWarning: `should_run_async` will not call `transform_cell` automatically in the future. Please pass the result to `transformed_cell` argument and any exception that happen during thetransform in `preprocessing_exc_tuple` in IPython 7.17 and above.\n",
            "  and should_run_async(code)\n"
          ]
        },
        {
          "output_type": "execute_result",
          "data": {
            "text/plain": [
              "665"
            ]
          },
          "metadata": {},
          "execution_count": 5
        }
      ]
    },
    {
      "cell_type": "code",
      "source": [
        "df = main_frame.drop(['order_delivery_cost','product_price','order_total_products_price','product_stock','order_total_price','order_customer_type','order_date'],axis=1)\n",
        "df.head()"
      ],
      "metadata": {
        "colab": {
          "base_uri": "https://localhost:8080/",
          "height": 262
        },
        "id": "N1iTELeThlJw",
        "outputId": "ffcf12dc-46c7-4418-adc1-5c77c28c4c8b"
      },
      "execution_count": null,
      "outputs": [
        {
          "output_type": "stream",
          "name": "stderr",
          "text": [
            "/usr/local/lib/python3.10/dist-packages/ipykernel/ipkernel.py:283: DeprecationWarning: `should_run_async` will not call `transform_cell` automatically in the future. Please pass the result to `transformed_cell` argument and any exception that happen during thetransform in `preprocessing_exc_tuple` in IPython 7.17 and above.\n",
            "  and should_run_async(code)\n"
          ]
        },
        {
          "output_type": "execute_result",
          "data": {
            "text/plain": [
              "                 product_id  product_name               category_id  \\\n",
              "0  65c69ee781e808fb28054a36   طماطم  فاخر  633eb7d9685e55eb2f02b012   \n",
              "1  65c6ac86b138a0346100f765    كرنب مسلوق  63750f318d0151836508a2c2   \n",
              "2  65c69f50c8da21dfe90ab455     جريب فروت  633eb7e11ef9e97ab70d6ff2   \n",
              "3  65c6ad06b41824de3a0e8105  ليمون اضاليا  633eb7d9685e55eb2f02b012   \n",
              "4  65c69ee781e808fb28054a36   طماطم  فاخر  633eb7d9685e55eb2f02b012   \n",
              "\n",
              "  category_name  quantity                  order_id  \n",
              "0        خضروات       4.0  65c76f779634263f010b3a62  \n",
              "1  خضروات جاهزة       1.0  65c76f779634263f010b3a62  \n",
              "2         فاكهة       4.0  65c76f779634263f010b3a62  \n",
              "3        خضروات       1.0  65c76f779634263f010b3a62  \n",
              "4        خضروات       4.0  65c76f77c5c149c84402d922  "
            ],
            "text/html": [
              "\n",
              "  <div id=\"df-c75586db-5e19-49b8-94a4-e165e2a437da\" class=\"colab-df-container\">\n",
              "    <div>\n",
              "<style scoped>\n",
              "    .dataframe tbody tr th:only-of-type {\n",
              "        vertical-align: middle;\n",
              "    }\n",
              "\n",
              "    .dataframe tbody tr th {\n",
              "        vertical-align: top;\n",
              "    }\n",
              "\n",
              "    .dataframe thead th {\n",
              "        text-align: right;\n",
              "    }\n",
              "</style>\n",
              "<table border=\"1\" class=\"dataframe\">\n",
              "  <thead>\n",
              "    <tr style=\"text-align: right;\">\n",
              "      <th></th>\n",
              "      <th>product_id</th>\n",
              "      <th>product_name</th>\n",
              "      <th>category_id</th>\n",
              "      <th>category_name</th>\n",
              "      <th>quantity</th>\n",
              "      <th>order_id</th>\n",
              "    </tr>\n",
              "  </thead>\n",
              "  <tbody>\n",
              "    <tr>\n",
              "      <th>0</th>\n",
              "      <td>65c69ee781e808fb28054a36</td>\n",
              "      <td>طماطم  فاخر</td>\n",
              "      <td>633eb7d9685e55eb2f02b012</td>\n",
              "      <td>خضروات</td>\n",
              "      <td>4.0</td>\n",
              "      <td>65c76f779634263f010b3a62</td>\n",
              "    </tr>\n",
              "    <tr>\n",
              "      <th>1</th>\n",
              "      <td>65c6ac86b138a0346100f765</td>\n",
              "      <td>كرنب مسلوق</td>\n",
              "      <td>63750f318d0151836508a2c2</td>\n",
              "      <td>خضروات جاهزة</td>\n",
              "      <td>1.0</td>\n",
              "      <td>65c76f779634263f010b3a62</td>\n",
              "    </tr>\n",
              "    <tr>\n",
              "      <th>2</th>\n",
              "      <td>65c69f50c8da21dfe90ab455</td>\n",
              "      <td>جريب فروت</td>\n",
              "      <td>633eb7e11ef9e97ab70d6ff2</td>\n",
              "      <td>فاكهة</td>\n",
              "      <td>4.0</td>\n",
              "      <td>65c76f779634263f010b3a62</td>\n",
              "    </tr>\n",
              "    <tr>\n",
              "      <th>3</th>\n",
              "      <td>65c6ad06b41824de3a0e8105</td>\n",
              "      <td>ليمون اضاليا</td>\n",
              "      <td>633eb7d9685e55eb2f02b012</td>\n",
              "      <td>خضروات</td>\n",
              "      <td>1.0</td>\n",
              "      <td>65c76f779634263f010b3a62</td>\n",
              "    </tr>\n",
              "    <tr>\n",
              "      <th>4</th>\n",
              "      <td>65c69ee781e808fb28054a36</td>\n",
              "      <td>طماطم  فاخر</td>\n",
              "      <td>633eb7d9685e55eb2f02b012</td>\n",
              "      <td>خضروات</td>\n",
              "      <td>4.0</td>\n",
              "      <td>65c76f77c5c149c84402d922</td>\n",
              "    </tr>\n",
              "  </tbody>\n",
              "</table>\n",
              "</div>\n",
              "    <div class=\"colab-df-buttons\">\n",
              "\n",
              "  <div class=\"colab-df-container\">\n",
              "    <button class=\"colab-df-convert\" onclick=\"convertToInteractive('df-c75586db-5e19-49b8-94a4-e165e2a437da')\"\n",
              "            title=\"Convert this dataframe to an interactive table.\"\n",
              "            style=\"display:none;\">\n",
              "\n",
              "  <svg xmlns=\"http://www.w3.org/2000/svg\" height=\"24px\" viewBox=\"0 -960 960 960\">\n",
              "    <path d=\"M120-120v-720h720v720H120Zm60-500h600v-160H180v160Zm220 220h160v-160H400v160Zm0 220h160v-160H400v160ZM180-400h160v-160H180v160Zm440 0h160v-160H620v160ZM180-180h160v-160H180v160Zm440 0h160v-160H620v160Z\"/>\n",
              "  </svg>\n",
              "    </button>\n",
              "\n",
              "  <style>\n",
              "    .colab-df-container {\n",
              "      display:flex;\n",
              "      gap: 12px;\n",
              "    }\n",
              "\n",
              "    .colab-df-convert {\n",
              "      background-color: #E8F0FE;\n",
              "      border: none;\n",
              "      border-radius: 50%;\n",
              "      cursor: pointer;\n",
              "      display: none;\n",
              "      fill: #1967D2;\n",
              "      height: 32px;\n",
              "      padding: 0 0 0 0;\n",
              "      width: 32px;\n",
              "    }\n",
              "\n",
              "    .colab-df-convert:hover {\n",
              "      background-color: #E2EBFA;\n",
              "      box-shadow: 0px 1px 2px rgba(60, 64, 67, 0.3), 0px 1px 3px 1px rgba(60, 64, 67, 0.15);\n",
              "      fill: #174EA6;\n",
              "    }\n",
              "\n",
              "    .colab-df-buttons div {\n",
              "      margin-bottom: 4px;\n",
              "    }\n",
              "\n",
              "    [theme=dark] .colab-df-convert {\n",
              "      background-color: #3B4455;\n",
              "      fill: #D2E3FC;\n",
              "    }\n",
              "\n",
              "    [theme=dark] .colab-df-convert:hover {\n",
              "      background-color: #434B5C;\n",
              "      box-shadow: 0px 1px 3px 1px rgba(0, 0, 0, 0.15);\n",
              "      filter: drop-shadow(0px 1px 2px rgba(0, 0, 0, 0.3));\n",
              "      fill: #FFFFFF;\n",
              "    }\n",
              "  </style>\n",
              "\n",
              "    <script>\n",
              "      const buttonEl =\n",
              "        document.querySelector('#df-c75586db-5e19-49b8-94a4-e165e2a437da button.colab-df-convert');\n",
              "      buttonEl.style.display =\n",
              "        google.colab.kernel.accessAllowed ? 'block' : 'none';\n",
              "\n",
              "      async function convertToInteractive(key) {\n",
              "        const element = document.querySelector('#df-c75586db-5e19-49b8-94a4-e165e2a437da');\n",
              "        const dataTable =\n",
              "          await google.colab.kernel.invokeFunction('convertToInteractive',\n",
              "                                                    [key], {});\n",
              "        if (!dataTable) return;\n",
              "\n",
              "        const docLinkHtml = 'Like what you see? Visit the ' +\n",
              "          '<a target=\"_blank\" href=https://colab.research.google.com/notebooks/data_table.ipynb>data table notebook</a>'\n",
              "          + ' to learn more about interactive tables.';\n",
              "        element.innerHTML = '';\n",
              "        dataTable['output_type'] = 'display_data';\n",
              "        await google.colab.output.renderOutput(dataTable, element);\n",
              "        const docLink = document.createElement('div');\n",
              "        docLink.innerHTML = docLinkHtml;\n",
              "        element.appendChild(docLink);\n",
              "      }\n",
              "    </script>\n",
              "  </div>\n",
              "\n",
              "\n",
              "<div id=\"df-8e4de9f7-c0d2-41c3-ac58-ab8cfd07cbbf\">\n",
              "  <button class=\"colab-df-quickchart\" onclick=\"quickchart('df-8e4de9f7-c0d2-41c3-ac58-ab8cfd07cbbf')\"\n",
              "            title=\"Suggest charts\"\n",
              "            style=\"display:none;\">\n",
              "\n",
              "<svg xmlns=\"http://www.w3.org/2000/svg\" height=\"24px\"viewBox=\"0 0 24 24\"\n",
              "     width=\"24px\">\n",
              "    <g>\n",
              "        <path d=\"M19 3H5c-1.1 0-2 .9-2 2v14c0 1.1.9 2 2 2h14c1.1 0 2-.9 2-2V5c0-1.1-.9-2-2-2zM9 17H7v-7h2v7zm4 0h-2V7h2v10zm4 0h-2v-4h2v4z\"/>\n",
              "    </g>\n",
              "</svg>\n",
              "  </button>\n",
              "\n",
              "<style>\n",
              "  .colab-df-quickchart {\n",
              "      --bg-color: #E8F0FE;\n",
              "      --fill-color: #1967D2;\n",
              "      --hover-bg-color: #E2EBFA;\n",
              "      --hover-fill-color: #174EA6;\n",
              "      --disabled-fill-color: #AAA;\n",
              "      --disabled-bg-color: #DDD;\n",
              "  }\n",
              "\n",
              "  [theme=dark] .colab-df-quickchart {\n",
              "      --bg-color: #3B4455;\n",
              "      --fill-color: #D2E3FC;\n",
              "      --hover-bg-color: #434B5C;\n",
              "      --hover-fill-color: #FFFFFF;\n",
              "      --disabled-bg-color: #3B4455;\n",
              "      --disabled-fill-color: #666;\n",
              "  }\n",
              "\n",
              "  .colab-df-quickchart {\n",
              "    background-color: var(--bg-color);\n",
              "    border: none;\n",
              "    border-radius: 50%;\n",
              "    cursor: pointer;\n",
              "    display: none;\n",
              "    fill: var(--fill-color);\n",
              "    height: 32px;\n",
              "    padding: 0;\n",
              "    width: 32px;\n",
              "  }\n",
              "\n",
              "  .colab-df-quickchart:hover {\n",
              "    background-color: var(--hover-bg-color);\n",
              "    box-shadow: 0 1px 2px rgba(60, 64, 67, 0.3), 0 1px 3px 1px rgba(60, 64, 67, 0.15);\n",
              "    fill: var(--button-hover-fill-color);\n",
              "  }\n",
              "\n",
              "  .colab-df-quickchart-complete:disabled,\n",
              "  .colab-df-quickchart-complete:disabled:hover {\n",
              "    background-color: var(--disabled-bg-color);\n",
              "    fill: var(--disabled-fill-color);\n",
              "    box-shadow: none;\n",
              "  }\n",
              "\n",
              "  .colab-df-spinner {\n",
              "    border: 2px solid var(--fill-color);\n",
              "    border-color: transparent;\n",
              "    border-bottom-color: var(--fill-color);\n",
              "    animation:\n",
              "      spin 1s steps(1) infinite;\n",
              "  }\n",
              "\n",
              "  @keyframes spin {\n",
              "    0% {\n",
              "      border-color: transparent;\n",
              "      border-bottom-color: var(--fill-color);\n",
              "      border-left-color: var(--fill-color);\n",
              "    }\n",
              "    20% {\n",
              "      border-color: transparent;\n",
              "      border-left-color: var(--fill-color);\n",
              "      border-top-color: var(--fill-color);\n",
              "    }\n",
              "    30% {\n",
              "      border-color: transparent;\n",
              "      border-left-color: var(--fill-color);\n",
              "      border-top-color: var(--fill-color);\n",
              "      border-right-color: var(--fill-color);\n",
              "    }\n",
              "    40% {\n",
              "      border-color: transparent;\n",
              "      border-right-color: var(--fill-color);\n",
              "      border-top-color: var(--fill-color);\n",
              "    }\n",
              "    60% {\n",
              "      border-color: transparent;\n",
              "      border-right-color: var(--fill-color);\n",
              "    }\n",
              "    80% {\n",
              "      border-color: transparent;\n",
              "      border-right-color: var(--fill-color);\n",
              "      border-bottom-color: var(--fill-color);\n",
              "    }\n",
              "    90% {\n",
              "      border-color: transparent;\n",
              "      border-bottom-color: var(--fill-color);\n",
              "    }\n",
              "  }\n",
              "</style>\n",
              "\n",
              "  <script>\n",
              "    async function quickchart(key) {\n",
              "      const quickchartButtonEl =\n",
              "        document.querySelector('#' + key + ' button');\n",
              "      quickchartButtonEl.disabled = true;  // To prevent multiple clicks.\n",
              "      quickchartButtonEl.classList.add('colab-df-spinner');\n",
              "      try {\n",
              "        const charts = await google.colab.kernel.invokeFunction(\n",
              "            'suggestCharts', [key], {});\n",
              "      } catch (error) {\n",
              "        console.error('Error during call to suggestCharts:', error);\n",
              "      }\n",
              "      quickchartButtonEl.classList.remove('colab-df-spinner');\n",
              "      quickchartButtonEl.classList.add('colab-df-quickchart-complete');\n",
              "    }\n",
              "    (() => {\n",
              "      let quickchartButtonEl =\n",
              "        document.querySelector('#df-8e4de9f7-c0d2-41c3-ac58-ab8cfd07cbbf button');\n",
              "      quickchartButtonEl.style.display =\n",
              "        google.colab.kernel.accessAllowed ? 'block' : 'none';\n",
              "    })();\n",
              "  </script>\n",
              "</div>\n",
              "\n",
              "    </div>\n",
              "  </div>\n"
            ],
            "application/vnd.google.colaboratory.intrinsic+json": {
              "type": "dataframe",
              "variable_name": "df"
            }
          },
          "metadata": {},
          "execution_count": 6
        }
      ]
    },
    {
      "cell_type": "code",
      "source": [
        "df.isnull().sum()"
      ],
      "metadata": {
        "colab": {
          "base_uri": "https://localhost:8080/",
          "height": 329
        },
        "id": "6YHVCHBFh7Yu",
        "outputId": "aab0c4a9-31ec-443a-ed83-56fb8e611c00"
      },
      "execution_count": null,
      "outputs": [
        {
          "output_type": "stream",
          "name": "stderr",
          "text": [
            "/usr/local/lib/python3.10/dist-packages/ipykernel/ipkernel.py:283: DeprecationWarning: `should_run_async` will not call `transform_cell` automatically in the future. Please pass the result to `transformed_cell` argument and any exception that happen during thetransform in `preprocessing_exc_tuple` in IPython 7.17 and above.\n",
            "  and should_run_async(code)\n"
          ]
        },
        {
          "output_type": "execute_result",
          "data": {
            "text/plain": [
              "product_id         0\n",
              "product_name     665\n",
              "category_id      665\n",
              "category_name    665\n",
              "quantity           0\n",
              "order_id           0\n",
              "dtype: int64"
            ],
            "text/html": [
              "<div>\n",
              "<style scoped>\n",
              "    .dataframe tbody tr th:only-of-type {\n",
              "        vertical-align: middle;\n",
              "    }\n",
              "\n",
              "    .dataframe tbody tr th {\n",
              "        vertical-align: top;\n",
              "    }\n",
              "\n",
              "    .dataframe thead th {\n",
              "        text-align: right;\n",
              "    }\n",
              "</style>\n",
              "<table border=\"1\" class=\"dataframe\">\n",
              "  <thead>\n",
              "    <tr style=\"text-align: right;\">\n",
              "      <th></th>\n",
              "      <th>0</th>\n",
              "    </tr>\n",
              "  </thead>\n",
              "  <tbody>\n",
              "    <tr>\n",
              "      <th>product_id</th>\n",
              "      <td>0</td>\n",
              "    </tr>\n",
              "    <tr>\n",
              "      <th>product_name</th>\n",
              "      <td>665</td>\n",
              "    </tr>\n",
              "    <tr>\n",
              "      <th>category_id</th>\n",
              "      <td>665</td>\n",
              "    </tr>\n",
              "    <tr>\n",
              "      <th>category_name</th>\n",
              "      <td>665</td>\n",
              "    </tr>\n",
              "    <tr>\n",
              "      <th>quantity</th>\n",
              "      <td>0</td>\n",
              "    </tr>\n",
              "    <tr>\n",
              "      <th>order_id</th>\n",
              "      <td>0</td>\n",
              "    </tr>\n",
              "  </tbody>\n",
              "</table>\n",
              "</div><br><label><b>dtype:</b> int64</label>"
            ]
          },
          "metadata": {},
          "execution_count": 7
        }
      ]
    },
    {
      "cell_type": "code",
      "source": [
        "# Replace 'column_name' with the name of the column you want to check\n",
        "rows_with_null = df[df['product_name'].isnull()]\n",
        "\n",
        "# Display the rows\n",
        "rows_with_null['product_id'].unique()"
      ],
      "metadata": {
        "colab": {
          "base_uri": "https://localhost:8080/"
        },
        "id": "baUtPiv5iDlY",
        "outputId": "cd6e4df4-de20-4051-d1f6-678ed795cb19"
      },
      "execution_count": null,
      "outputs": [
        {
          "output_type": "stream",
          "name": "stderr",
          "text": [
            "/usr/local/lib/python3.10/dist-packages/ipykernel/ipkernel.py:283: DeprecationWarning: `should_run_async` will not call `transform_cell` automatically in the future. Please pass the result to `transformed_cell` argument and any exception that happen during thetransform in `preprocessing_exc_tuple` in IPython 7.17 and above.\n",
            "  and should_run_async(code)\n"
          ]
        },
        {
          "output_type": "execute_result",
          "data": {
            "text/plain": [
              "array(['65c69a336fbd3f330902e522', '65c6ad2db41824de3a0e810a',\n",
              "       '65c6ab58b1cef436b60fc512', '65c6b0018b0b17cfd90c4f45',\n",
              "       '65c6b2de3b0f70dd0d0721f5', '65c773dcbdf63d214e0bce44',\n",
              "       '65c6ac532d470f225101de13', '65c69a3f52f83b6f7307a884',\n",
              "       '65c693a3e437225e2d079122', '65c6b345c1ea7c9ce70e5488',\n",
              "       '65c69be7434f321680034873', '65c695d3c38dda787c034042',\n",
              "       '65c69c32434f32168003487c', '65c6b18508ca2a15a500b522',\n",
              "       '664a0b0324c765989b0dc354'], dtype=object)"
            ]
          },
          "metadata": {},
          "execution_count": 8
        }
      ]
    },
    {
      "cell_type": "code",
      "source": [
        "# Assuming 'column_name' is the column where you want to check the occurrences\n",
        "values_to_check = [\n",
        "    '65c69a336fbd3f330902e522', '65c6ad2db41824de3a0e810a',\n",
        "    '65c6ab58b1cef436b60fc512', '65c6b0018b0b17cfd90c4f45',\n",
        "    '65c6b2de3b0f70dd0d0721f5', '65c773dcbdf63d214e0bce44',\n",
        "    '65c6ac532d470f225101de13', '65c69a3f52f83b6f7307a884',\n",
        "    '65c693a3e437225e2d079122', '65c6b345c1ea7c9ce70e5488',\n",
        "    '65c69be7434f321680034873', '65c695d3c38dda787c034042',\n",
        "    '65c69c32434f32168003487c', '65c6b18508ca2a15a500b522',\n",
        "    '664a0b0324c765989b0dc354'\n",
        "]\n",
        "\n",
        "# Filter the DataFrame to include only rows where the column contains values from the array\n",
        "filtered_df = df[df['product_id'].isin(values_to_check)]\n",
        "\n",
        "# Count occurrences of each value in the filtered DataFrame\n",
        "value_counts = filtered_df['product_id'].value_counts()\n",
        "\n",
        "# Display the result\n",
        "print(value_counts)\n"
      ],
      "metadata": {
        "colab": {
          "base_uri": "https://localhost:8080/"
        },
        "id": "ddx2pM4Mi6Mu",
        "outputId": "1c5c4390-da54-45fb-8c54-9164bf438c4b"
      },
      "execution_count": null,
      "outputs": [
        {
          "output_type": "stream",
          "name": "stdout",
          "text": [
            "product_id\n",
            "65c69a3f52f83b6f7307a884    354\n",
            "65c6b0018b0b17cfd90c4f45    164\n",
            "65c69be7434f321680034873     50\n",
            "65c69a336fbd3f330902e522     28\n",
            "65c6ab58b1cef436b60fc512     19\n",
            "65c695d3c38dda787c034042     17\n",
            "65c6b2de3b0f70dd0d0721f5      9\n",
            "65c69c32434f32168003487c      6\n",
            "664a0b0324c765989b0dc354      6\n",
            "65c6b18508ca2a15a500b522      5\n",
            "65c6ad2db41824de3a0e810a      2\n",
            "65c6ac532d470f225101de13      2\n",
            "65c773dcbdf63d214e0bce44      1\n",
            "65c693a3e437225e2d079122      1\n",
            "65c6b345c1ea7c9ce70e5488      1\n",
            "Name: count, dtype: int64\n"
          ]
        },
        {
          "output_type": "stream",
          "name": "stderr",
          "text": [
            "/usr/local/lib/python3.10/dist-packages/ipykernel/ipkernel.py:283: DeprecationWarning: `should_run_async` will not call `transform_cell` automatically in the future. Please pass the result to `transformed_cell` argument and any exception that happen during thetransform in `preprocessing_exc_tuple` in IPython 7.17 and above.\n",
            "  and should_run_async(code)\n"
          ]
        }
      ]
    },
    {
      "cell_type": "code",
      "source": [
        "# Create a dictionary to map product names to encoded values\n",
        "product_encoder = {product_name: idx for idx, product_name in enumerate(df['product_name'].unique())}\n",
        "\n",
        "# Create a reverse dictionary to decode encoded values back to product names\n",
        "product_decoder = {idx: product_name for product_name, idx in product_encoder.items()}"
      ],
      "metadata": {
        "colab": {
          "base_uri": "https://localhost:8080/"
        },
        "id": "k94-9cU7jvle",
        "outputId": "86e47bdc-ccaa-40ce-d934-b77a1c709f72"
      },
      "execution_count": null,
      "outputs": [
        {
          "output_type": "stream",
          "name": "stderr",
          "text": [
            "/usr/local/lib/python3.10/dist-packages/ipykernel/ipkernel.py:283: DeprecationWarning: `should_run_async` will not call `transform_cell` automatically in the future. Please pass the result to `transformed_cell` argument and any exception that happen during thetransform in `preprocessing_exc_tuple` in IPython 7.17 and above.\n",
            "  and should_run_async(code)\n"
          ]
        }
      ]
    },
    {
      "cell_type": "code",
      "source": [
        "# Apply encoding to the 'product_id' column in the original DataFrame\n",
        "df['product_name_encoded'] = df['product_name'].map(product_encoder)"
      ],
      "metadata": {
        "colab": {
          "base_uri": "https://localhost:8080/"
        },
        "id": "aVeARYLpkKx-",
        "outputId": "06a81401-5716-4717-b785-e91804ce2693"
      },
      "execution_count": null,
      "outputs": [
        {
          "output_type": "stream",
          "name": "stderr",
          "text": [
            "/usr/local/lib/python3.10/dist-packages/ipykernel/ipkernel.py:283: DeprecationWarning: `should_run_async` will not call `transform_cell` automatically in the future. Please pass the result to `transformed_cell` argument and any exception that happen during thetransform in `preprocessing_exc_tuple` in IPython 7.17 and above.\n",
            "  and should_run_async(code)\n"
          ]
        }
      ]
    },
    {
      "cell_type": "code",
      "source": [
        "# Group orders and perform one-hot encoding (assuming 'order_id' is your order identifier column)\n",
        "grouped_orders = df.groupby('order_id')['product_name_encoded'].apply(list).reset_index()\n",
        "te = TransactionEncoder()\n",
        "te_ary = te.fit(grouped_orders['product_name_encoded']).transform(grouped_orders['product_name_encoded'])\n",
        "df_new = pd.DataFrame(te_ary, columns=te.columns_)"
      ],
      "metadata": {
        "colab": {
          "base_uri": "https://localhost:8080/"
        },
        "id": "ChfIUDAQkN26",
        "outputId": "f2a39a08-ca24-4195-d81c-0ff23ea83e6f"
      },
      "execution_count": null,
      "outputs": [
        {
          "output_type": "stream",
          "name": "stderr",
          "text": [
            "/usr/local/lib/python3.10/dist-packages/ipykernel/ipkernel.py:283: DeprecationWarning: `should_run_async` will not call `transform_cell` automatically in the future. Please pass the result to `transformed_cell` argument and any exception that happen during thetransform in `preprocessing_exc_tuple` in IPython 7.17 and above.\n",
            "  and should_run_async(code)\n"
          ]
        }
      ]
    },
    {
      "cell_type": "code",
      "source": [
        "order_sizes = df.groupby('order_id')['product_name_encoded'].count()\n",
        "\n",
        "plt.hist(order_sizes, bins=15)\n",
        "plt.xlabel('Number of Products per Order')\n",
        "plt.ylabel('Frequency')\n",
        "_ = plt.title('Distribution of order sizes')"
      ],
      "metadata": {
        "colab": {
          "base_uri": "https://localhost:8080/",
          "height": 528
        },
        "id": "o_kNQZMpkQb3",
        "outputId": "9b0e2027-6f20-4741-e96b-599112f50f8f"
      },
      "execution_count": null,
      "outputs": [
        {
          "output_type": "stream",
          "name": "stderr",
          "text": [
            "/usr/local/lib/python3.10/dist-packages/ipykernel/ipkernel.py:283: DeprecationWarning: `should_run_async` will not call `transform_cell` automatically in the future. Please pass the result to `transformed_cell` argument and any exception that happen during thetransform in `preprocessing_exc_tuple` in IPython 7.17 and above.\n",
            "  and should_run_async(code)\n"
          ]
        },
        {
          "output_type": "display_data",
          "data": {
            "text/plain": [
              "<Figure size 640x480 with 1 Axes>"
            ],
            "image/png": "[encoded data removed]"
          },
          "metadata": {}
        }
      ]
    },
    {
      "cell_type": "code",
      "source": [
        "frequent_itemsets = apriori(df_new, min_support=0.008, use_colnames=True)\n",
        "#Extract the itemsets as lists from the sets\n",
        "frequent_itemsets['itemsets'] = frequent_itemsets['itemsets'].apply(list)\n",
        "\n",
        "# One-hot encode the itemsets\n",
        "mlb = MultiLabelBinarizer()\n",
        "itemsets_encoded = mlb.fit_transform(frequent_itemsets['itemsets'])\n",
        "\n",
        "# Create a new DataFrame with one-hot encoded columns\n",
        "itemsets_encoded_df = pd.DataFrame(itemsets_encoded, columns=mlb.classes_)\n",
        "\n",
        "print(frequent_itemsets)"
      ],
      "metadata": {
        "colab": {
          "base_uri": "https://localhost:8080/"
        },
        "id": "qbvfiBXMlG3H",
        "outputId": "c87e091f-1a79-4a83-9fe3-1d69e743101e"
      },
      "execution_count": null,
      "outputs": [
        {
          "output_type": "stream",
          "name": "stderr",
          "text": [
            "/usr/local/lib/python3.10/dist-packages/ipykernel/ipkernel.py:283: DeprecationWarning: `should_run_async` will not call `transform_cell` automatically in the future. Please pass the result to `transformed_cell` argument and any exception that happen during thetransform in `preprocessing_exc_tuple` in IPython 7.17 and above.\n",
            "  and should_run_async(code)\n"
          ]
        },
        {
          "output_type": "stream",
          "name": "stdout",
          "text": [
            "      support              itemsets\n",
            "0    0.410945                   [0]\n",
            "1    0.010412                   [4]\n",
            "2    0.021913                   [6]\n",
            "3    0.062363                   [7]\n",
            "4    0.084953                   [8]\n",
            "..        ...                   ...\n",
            "510  0.008781   [0, 64, 12, 16, 31]\n",
            "511  0.008670   [0, 64, 12, 25, 30]\n",
            "512  0.012244   [0, 64, 16, 25, 30]\n",
            "513  0.009158   [0, 64, 16, 25, 31]\n",
            "514  0.008259  [64, 12, 16, 25, 30]\n",
            "\n",
            "[515 rows x 2 columns]\n"
          ]
        }
      ]
    },
    {
      "cell_type": "code",
      "source": [
        "# Modify the decode_itemsets function to handle lists of itemsets\n",
        "def decode_itemsets(itemsets):\n",
        "    # Decode each item in the list of itemsets\n",
        "    return {product_decoder[item] for item in itemsets}\n",
        "\n",
        "# Apply the modified function to decode the itemsets\n",
        "frequent_itemsets['itemsets'] = frequent_itemsets['itemsets'].apply(decode_itemsets)\n",
        "\n",
        "# Print the decoded itemsets\n",
        "print(frequent_itemsets)"
      ],
      "metadata": {
        "colab": {
          "base_uri": "https://localhost:8080/"
        },
        "id": "fivK52JrQLJc",
        "outputId": "aa37be84-41bb-4878-d464-f9595604967f"
      },
      "execution_count": null,
      "outputs": [
        {
          "output_type": "stream",
          "name": "stdout",
          "text": [
            "      support                                           itemsets\n",
            "0    0.410945                                      {طماطم  فاخر}\n",
            "1    0.010412                                             {شمام}\n",
            "2    0.021913                                    {باكت ثوم صيني}\n",
            "3    0.062363                                              {شبت}\n",
            "4    0.084953                                      {بقدونس اخضر}\n",
            "..        ...                                                ...\n",
            "510  0.008781  {فلفل رومي اخضر, بصل ابيض جديد, خيار, طماطم  ف...\n",
            "511  0.008670  {فلفل رومي اخضر, ليمون بلدي, طماطم  فاخر, جزر,...\n",
            "512  0.012244  {خيار, ليمون بلدي, طماطم  فاخر, جزر, بطاطس تحم...\n",
            "513  0.009158  {بصل ابيض جديد, خيار, ليمون بلدي, طماطم  فاخر,...\n",
            "514  0.008259  {فلفل رومي اخضر, خيار, ليمون بلدي, جزر, بطاطس ...\n",
            "\n",
            "[515 rows x 2 columns]\n"
          ]
        },
        {
          "output_type": "stream",
          "name": "stderr",
          "text": [
            "/usr/local/lib/python3.10/dist-packages/ipykernel/ipkernel.py:283: DeprecationWarning: `should_run_async` will not call `transform_cell` automatically in the future. Please pass the result to `transformed_cell` argument and any exception that happen during thetransform in `preprocessing_exc_tuple` in IPython 7.17 and above.\n",
            "  and should_run_async(code)\n"
          ]
        }
      ]
    },
    {
      "cell_type": "code",
      "source": [
        "frequent_itemsets.to_excel('frequent_itemsets (Organic).xlsx', index=False)"
      ],
      "metadata": {
        "colab": {
          "base_uri": "https://localhost:8080/"
        },
        "id": "DqeTWD6AQNOc",
        "outputId": "c3d702d3-4eec-4a42-8f85-fe2a3eb69887"
      },
      "execution_count": null,
      "outputs": [
        {
          "output_type": "stream",
          "name": "stderr",
          "text": [
            "/usr/local/lib/python3.10/dist-packages/ipykernel/ipkernel.py:283: DeprecationWarning: `should_run_async` will not call `transform_cell` automatically in the future. Please pass the result to `transformed_cell` argument and any exception that happen during thetransform in `preprocessing_exc_tuple` in IPython 7.17 and above.\n",
            "  and should_run_async(code)\n"
          ]
        }
      ]
    },
    {
      "cell_type": "code",
      "source": [
        "rules = association_rules(frequent_itemsets, metric=\"confidence\", min_threshold=0.75)\n",
        "\n",
        "rules"
      ],
      "metadata": {
        "colab": {
          "base_uri": "https://localhost:8080/",
          "height": 480
        },
        "id": "sIyvnb-TlRbX",
        "outputId": "2d712652-ce38-459c-fab6-e0069b98285d"
      },
      "execution_count": null,
      "outputs": [
        {
          "output_type": "stream",
          "name": "stderr",
          "text": [
            "/usr/local/lib/python3.10/dist-packages/ipykernel/ipkernel.py:283: DeprecationWarning: `should_run_async` will not call `transform_cell` automatically in the future. Please pass the result to `transformed_cell` argument and any exception that happen during thetransform in `preprocessing_exc_tuple` in IPython 7.17 and above.\n",
            "  and should_run_async(code)\n"
          ]
        },
        {
          "output_type": "execute_result",
          "data": {
            "text/plain": [
              "          antecedents consequents  antecedent support  consequent support  \\\n",
              "0                 (7)         (9)            0.062363            0.070833   \n",
              "1              (0, 7)         (9)            0.036033            0.070833   \n",
              "2             (16, 9)         (0)            0.027119            0.410945   \n",
              "3            (16, 12)         (0)            0.075806            0.410945   \n",
              "4            (16, 15)         (0)            0.032247            0.410945   \n",
              "..                ...         ...                 ...                 ...   \n",
              "117  (64, 25, 12, 30)         (0)            0.010290            0.410945   \n",
              "118   (0, 25, 64, 30)        (16)            0.015263            0.271810   \n",
              "119  (64, 16, 25, 30)         (0)            0.014420            0.410945   \n",
              "120  (64, 16, 25, 31)         (0)            0.010612            0.410945   \n",
              "121  (64, 25, 12, 30)        (16)            0.010290            0.271810   \n",
              "\n",
              "      support  confidence       lift  leverage  conviction  zhangs_metric  \n",
              "0    0.048121    0.771627  10.893592  0.043704    4.068636       0.968609  \n",
              "1    0.028007    0.777264  10.973179  0.025455    4.171612       0.942842  \n",
              "2    0.020492    0.755628   1.838757  0.009347    2.410487       0.468869  \n",
              "3    0.058967    0.777859   1.892854  0.027814    2.651717       0.510388  \n",
              "4    0.025587    0.793460   1.930816  0.012335    2.852007       0.498148  \n",
              "..        ...         ...        ...       ...         ...            ...  \n",
              "117  0.008670    0.842503   2.050158  0.004441    3.740094       0.517559  \n",
              "118  0.012244    0.802182   2.951260  0.008095    3.681108       0.671410  \n",
              "119  0.012244    0.849115   2.066248  0.006318    3.903991       0.523581  \n",
              "120  0.009158    0.862971   2.099965  0.004797    4.298751       0.529420  \n",
              "121  0.008259    0.802589   2.952758  0.005462    3.688700       0.668210  \n",
              "\n",
              "[122 rows x 10 columns]"
            ],
            "text/html": [
              "\n",
              "  <div id=\"df-2ca964e2-da09-4766-8afb-18eef15b3a1f\" class=\"colab-df-container\">\n",
              "    <div>\n",
              "<style scoped>\n",
              "    .dataframe tbody tr th:only-of-type {\n",
              "        vertical-align: middle;\n",
              "    }\n",
              "\n",
              "    .dataframe tbody tr th {\n",
              "        vertical-align: top;\n",
              "    }\n",
              "\n",
              "    .dataframe thead th {\n",
              "        text-align: right;\n",
              "    }\n",
              "</style>\n",
              "<table border=\"1\" class=\"dataframe\">\n",
              "  <thead>\n",
              "    <tr style=\"text-align: right;\">\n",
              "      <th></th>\n",
              "      <th>antecedents</th>\n",
              "      <th>consequents</th>\n",
              "      <th>antecedent support</th>\n",
              "      <th>consequent support</th>\n",
              "      <th>support</th>\n",
              "      <th>confidence</th>\n",
              "      <th>lift</th>\n",
              "      <th>leverage</th>\n",
              "      <th>conviction</th>\n",
              "      <th>zhangs_metric</th>\n",
              "    </tr>\n",
              "  </thead>\n",
              "  <tbody>\n",
              "    <tr>\n",
              "      <th>0</th>\n",
              "      <td>(7)</td>\n",
              "      <td>(9)</td>\n",
              "      <td>0.062363</td>\n",
              "      <td>0.070833</td>\n",
              "      <td>0.048121</td>\n",
              "      <td>0.771627</td>\n",
              "      <td>10.893592</td>\n",
              "      <td>0.043704</td>\n",
              "      <td>4.068636</td>\n",
              "      <td>0.968609</td>\n",
              "    </tr>\n",
              "    <tr>\n",
              "      <th>1</th>\n",
              "      <td>(0, 7)</td>\n",
              "      <td>(9)</td>\n",
              "      <td>0.036033</td>\n",
              "      <td>0.070833</td>\n",
              "      <td>0.028007</td>\n",
              "      <td>0.777264</td>\n",
              "      <td>10.973179</td>\n",
              "      <td>0.025455</td>\n",
              "      <td>4.171612</td>\n",
              "      <td>0.942842</td>\n",
              "    </tr>\n",
              "    <tr>\n",
              "      <th>2</th>\n",
              "      <td>(16, 9)</td>\n",
              "      <td>(0)</td>\n",
              "      <td>0.027119</td>\n",
              "      <td>0.410945</td>\n",
              "      <td>0.020492</td>\n",
              "      <td>0.755628</td>\n",
              "      <td>1.838757</td>\n",
              "      <td>0.009347</td>\n",
              "      <td>2.410487</td>\n",
              "      <td>0.468869</td>\n",
              "    </tr>\n",
              "    <tr>\n",
              "      <th>3</th>\n",
              "      <td>(16, 12)</td>\n",
              "      <td>(0)</td>\n",
              "      <td>0.075806</td>\n",
              "      <td>0.410945</td>\n",
              "      <td>0.058967</td>\n",
              "      <td>0.777859</td>\n",
              "      <td>1.892854</td>\n",
              "      <td>0.027814</td>\n",
              "      <td>2.651717</td>\n",
              "      <td>0.510388</td>\n",
              "    </tr>\n",
              "    <tr>\n",
              "      <th>4</th>\n",
              "      <td>(16, 15)</td>\n",
              "      <td>(0)</td>\n",
              "      <td>0.032247</td>\n",
              "      <td>0.410945</td>\n",
              "      <td>0.025587</td>\n",
              "      <td>0.793460</td>\n",
              "      <td>1.930816</td>\n",
              "      <td>0.012335</td>\n",
              "      <td>2.852007</td>\n",
              "      <td>0.498148</td>\n",
              "    </tr>\n",
              "    <tr>\n",
              "      <th>...</th>\n",
              "      <td>...</td>\n",
              "      <td>...</td>\n",
              "      <td>...</td>\n",
              "      <td>...</td>\n",
              "      <td>...</td>\n",
              "      <td>...</td>\n",
              "      <td>...</td>\n",
              "      <td>...</td>\n",
              "      <td>...</td>\n",
              "      <td>...</td>\n",
              "    </tr>\n",
              "    <tr>\n",
              "      <th>117</th>\n",
              "      <td>(64, 25, 12, 30)</td>\n",
              "      <td>(0)</td>\n",
              "      <td>0.010290</td>\n",
              "      <td>0.410945</td>\n",
              "      <td>0.008670</td>\n",
              "      <td>0.842503</td>\n",
              "      <td>2.050158</td>\n",
              "      <td>0.004441</td>\n",
              "      <td>3.740094</td>\n",
              "      <td>0.517559</td>\n",
              "    </tr>\n",
              "    <tr>\n",
              "      <th>118</th>\n",
              "      <td>(0, 25, 64, 30)</td>\n",
              "      <td>(16)</td>\n",
              "      <td>0.015263</td>\n",
              "      <td>0.271810</td>\n",
              "      <td>0.012244</td>\n",
              "      <td>0.802182</td>\n",
              "      <td>2.951260</td>\n",
              "      <td>0.008095</td>\n",
              "      <td>3.681108</td>\n",
              "      <td>0.671410</td>\n",
              "    </tr>\n",
              "    <tr>\n",
              "      <th>119</th>\n",
              "      <td>(64, 16, 25, 30)</td>\n",
              "      <td>(0)</td>\n",
              "      <td>0.014420</td>\n",
              "      <td>0.410945</td>\n",
              "      <td>0.012244</td>\n",
              "      <td>0.849115</td>\n",
              "      <td>2.066248</td>\n",
              "      <td>0.006318</td>\n",
              "      <td>3.903991</td>\n",
              "      <td>0.523581</td>\n",
              "    </tr>\n",
              "    <tr>\n",
              "      <th>120</th>\n",
              "      <td>(64, 16, 25, 31)</td>\n",
              "      <td>(0)</td>\n",
              "      <td>0.010612</td>\n",
              "      <td>0.410945</td>\n",
              "      <td>0.009158</td>\n",
              "      <td>0.862971</td>\n",
              "      <td>2.099965</td>\n",
              "      <td>0.004797</td>\n",
              "      <td>4.298751</td>\n",
              "      <td>0.529420</td>\n",
              "    </tr>\n",
              "    <tr>\n",
              "      <th>121</th>\n",
              "      <td>(64, 25, 12, 30)</td>\n",
              "      <td>(16)</td>\n",
              "      <td>0.010290</td>\n",
              "      <td>0.271810</td>\n",
              "      <td>0.008259</td>\n",
              "      <td>0.802589</td>\n",
              "      <td>2.952758</td>\n",
              "      <td>0.005462</td>\n",
              "      <td>3.688700</td>\n",
              "      <td>0.668210</td>\n",
              "    </tr>\n",
              "  </tbody>\n",
              "</table>\n",
              "<p>122 rows × 10 columns</p>\n",
              "</div>\n",
              "    <div class=\"colab-df-buttons\">\n",
              "\n",
              "  <div class=\"colab-df-container\">\n",
              "    <button class=\"colab-df-convert\" onclick=\"convertToInteractive('df-2ca964e2-da09-4766-8afb-18eef15b3a1f')\"\n",
              "            title=\"Convert this dataframe to an interactive table.\"\n",
              "            style=\"display:none;\">\n",
              "\n",
              "  <svg xmlns=\"http://www.w3.org/2000/svg\" height=\"24px\" viewBox=\"0 -960 960 960\">\n",
              "    <path d=\"M120-120v-720h720v720H120Zm60-500h600v-160H180v160Zm220 220h160v-160H400v160Zm0 220h160v-160H400v160ZM180-400h160v-160H180v160Zm440 0h160v-160H620v160ZM180-180h160v-160H180v160Zm440 0h160v-160H620v160Z\"/>\n",
              "  </svg>\n",
              "    </button>\n",
              "\n",
              "  <style>\n",
              "    .colab-df-container {\n",
              "      display:flex;\n",
              "      gap: 12px;\n",
              "    }\n",
              "\n",
              "    .colab-df-convert {\n",
              "      background-color: #E8F0FE;\n",
              "      border: none;\n",
              "      border-radius: 50%;\n",
              "      cursor: pointer;\n",
              "      display: none;\n",
              "      fill: #1967D2;\n",
              "      height: 32px;\n",
              "      padding: 0 0 0 0;\n",
              "      width: 32px;\n",
              "    }\n",
              "\n",
              "    .colab-df-convert:hover {\n",
              "      background-color: #E2EBFA;\n",
              "      box-shadow: 0px 1px 2px rgba(60, 64, 67, 0.3), 0px 1px 3px 1px rgba(60, 64, 67, 0.15);\n",
              "      fill: #174EA6;\n",
              "    }\n",
              "\n",
              "    .colab-df-buttons div {\n",
              "      margin-bottom: 4px;\n",
              "    }\n",
              "\n",
              "    [theme=dark] .colab-df-convert {\n",
              "      background-color: #3B4455;\n",
              "      fill: #D2E3FC;\n",
              "    }\n",
              "\n",
              "    [theme=dark] .colab-df-convert:hover {\n",
              "      background-color: #434B5C;\n",
              "      box-shadow: 0px 1px 3px 1px rgba(0, 0, 0, 0.15);\n",
              "      filter: drop-shadow(0px 1px 2px rgba(0, 0, 0, 0.3));\n",
              "      fill: #FFFFFF;\n",
              "    }\n",
              "  </style>\n",
              "\n",
              "    <script>\n",
              "      const buttonEl =\n",
              "        document.querySelector('#df-2ca964e2-da09-4766-8afb-18eef15b3a1f button.colab-df-convert');\n",
              "      buttonEl.style.display =\n",
              "        google.colab.kernel.accessAllowed ? 'block' : 'none';\n",
              "\n",
              "      async function convertToInteractive(key) {\n",
              "        const element = document.querySelector('#df-2ca964e2-da09-4766-8afb-18eef15b3a1f');\n",
              "        const dataTable =\n",
              "          await google.colab.kernel.invokeFunction('convertToInteractive',\n",
              "                                                    [key], {});\n",
              "        if (!dataTable) return;\n",
              "\n",
              "        const docLinkHtml = 'Like what you see? Visit the ' +\n",
              "          '<a target=\"_blank\" href=https://colab.research.google.com/notebooks/data_table.ipynb>data table notebook</a>'\n",
              "          + ' to learn more about interactive tables.';\n",
              "        element.innerHTML = '';\n",
              "        dataTable['output_type'] = 'display_data';\n",
              "        await google.colab.output.renderOutput(dataTable, element);\n",
              "        const docLink = document.createElement('div');\n",
              "        docLink.innerHTML = docLinkHtml;\n",
              "        element.appendChild(docLink);\n",
              "      }\n",
              "    </script>\n",
              "  </div>\n",
              "\n",
              "\n",
              "<div id=\"df-8844bf4f-349c-47df-b236-f676788137ae\">\n",
              "  <button class=\"colab-df-quickchart\" onclick=\"quickchart('df-8844bf4f-349c-47df-b236-f676788137ae')\"\n",
              "            title=\"Suggest charts\"\n",
              "            style=\"display:none;\">\n",
              "\n",
              "<svg xmlns=\"http://www.w3.org/2000/svg\" height=\"24px\"viewBox=\"0 0 24 24\"\n",
              "     width=\"24px\">\n",
              "    <g>\n",
              "        <path d=\"M19 3H5c-1.1 0-2 .9-2 2v14c0 1.1.9 2 2 2h14c1.1 0 2-.9 2-2V5c0-1.1-.9-2-2-2zM9 17H7v-7h2v7zm4 0h-2V7h2v10zm4 0h-2v-4h2v4z\"/>\n",
              "    </g>\n",
              "</svg>\n",
              "  </button>\n",
              "\n",
              "<style>\n",
              "  .colab-df-quickchart {\n",
              "      --bg-color: #E8F0FE;\n",
              "      --fill-color: #1967D2;\n",
              "      --hover-bg-color: #E2EBFA;\n",
              "      --hover-fill-color: #174EA6;\n",
              "      --disabled-fill-color: #AAA;\n",
              "      --disabled-bg-color: #DDD;\n",
              "  }\n",
              "\n",
              "  [theme=dark] .colab-df-quickchart {\n",
              "      --bg-color: #3B4455;\n",
              "      --fill-color: #D2E3FC;\n",
              "      --hover-bg-color: #434B5C;\n",
              "      --hover-fill-color: #FFFFFF;\n",
              "      --disabled-bg-color: #3B4455;\n",
              "      --disabled-fill-color: #666;\n",
              "  }\n",
              "\n",
              "  .colab-df-quickchart {\n",
              "    background-color: var(--bg-color);\n",
              "    border: none;\n",
              "    border-radius: 50%;\n",
              "    cursor: pointer;\n",
              "    display: none;\n",
              "    fill: var(--fill-color);\n",
              "    height: 32px;\n",
              "    padding: 0;\n",
              "    width: 32px;\n",
              "  }\n",
              "\n",
              "  .colab-df-quickchart:hover {\n",
              "    background-color: var(--hover-bg-color);\n",
              "    box-shadow: 0 1px 2px rgba(60, 64, 67, 0.3), 0 1px 3px 1px rgba(60, 64, 67, 0.15);\n",
              "    fill: var(--button-hover-fill-color);\n",
              "  }\n",
              "\n",
              "  .colab-df-quickchart-complete:disabled,\n",
              "  .colab-df-quickchart-complete:disabled:hover {\n",
              "    background-color: var(--disabled-bg-color);\n",
              "    fill: var(--disabled-fill-color);\n",
              "    box-shadow: none;\n",
              "  }\n",
              "\n",
              "  .colab-df-spinner {\n",
              "    border: 2px solid var(--fill-color);\n",
              "    border-color: transparent;\n",
              "    border-bottom-color: var(--fill-color);\n",
              "    animation:\n",
              "      spin 1s steps(1) infinite;\n",
              "  }\n",
              "\n",
              "  @keyframes spin {\n",
              "    0% {\n",
              "      border-color: transparent;\n",
              "      border-bottom-color: var(--fill-color);\n",
              "      border-left-color: var(--fill-color);\n",
              "    }\n",
              "    20% {\n",
              "      border-color: transparent;\n",
              "      border-left-color: var(--fill-color);\n",
              "      border-top-color: var(--fill-color);\n",
              "    }\n",
              "    30% {\n",
              "      border-color: transparent;\n",
              "      border-left-color: var(--fill-color);\n",
              "      border-top-color: var(--fill-color);\n",
              "      border-right-color: var(--fill-color);\n",
              "    }\n",
              "    40% {\n",
              "      border-color: transparent;\n",
              "      border-right-color: var(--fill-color);\n",
              "      border-top-color: var(--fill-color);\n",
              "    }\n",
              "    60% {\n",
              "      border-color: transparent;\n",
              "      border-right-color: var(--fill-color);\n",
              "    }\n",
              "    80% {\n",
              "      border-color: transparent;\n",
              "      border-right-color: var(--fill-color);\n",
              "      border-bottom-color: var(--fill-color);\n",
              "    }\n",
              "    90% {\n",
              "      border-color: transparent;\n",
              "      border-bottom-color: var(--fill-color);\n",
              "    }\n",
              "  }\n",
              "</style>\n",
              "\n",
              "  <script>\n",
              "    async function quickchart(key) {\n",
              "      const quickchartButtonEl =\n",
              "        document.querySelector('#' + key + ' button');\n",
              "      quickchartButtonEl.disabled = true;  // To prevent multiple clicks.\n",
              "      quickchartButtonEl.classList.add('colab-df-spinner');\n",
              "      try {\n",
              "        const charts = await google.colab.kernel.invokeFunction(\n",
              "            'suggestCharts', [key], {});\n",
              "      } catch (error) {\n",
              "        console.error('Error during call to suggestCharts:', error);\n",
              "      }\n",
              "      quickchartButtonEl.classList.remove('colab-df-spinner');\n",
              "      quickchartButtonEl.classList.add('colab-df-quickchart-complete');\n",
              "    }\n",
              "    (() => {\n",
              "      let quickchartButtonEl =\n",
              "        document.querySelector('#df-8844bf4f-349c-47df-b236-f676788137ae button');\n",
              "      quickchartButtonEl.style.display =\n",
              "        google.colab.kernel.accessAllowed ? 'block' : 'none';\n",
              "    })();\n",
              "  </script>\n",
              "</div>\n",
              "\n",
              "  <div id=\"id_13408c17-c61d-488d-87ff-6057dcb975b8\">\n",
              "    <style>\n",
              "      .colab-df-generate {\n",
              "        background-color: #E8F0FE;\n",
              "        border: none;\n",
              "        border-radius: 50%;\n",
              "        cursor: pointer;\n",
              "        display: none;\n",
              "        fill: #1967D2;\n",
              "        height: 32px;\n",
              "        padding: 0 0 0 0;\n",
              "        width: 32px;\n",
              "      }\n",
              "\n",
              "      .colab-df-generate:hover {\n",
              "        background-color: #E2EBFA;\n",
              "        box-shadow: 0px 1px 2px rgba(60, 64, 67, 0.3), 0px 1px 3px 1px rgba(60, 64, 67, 0.15);\n",
              "        fill: #174EA6;\n",
              "      }\n",
              "\n",
              "      [theme=dark] .colab-df-generate {\n",
              "        background-color: #3B4455;\n",
              "        fill: #D2E3FC;\n",
              "      }\n",
              "\n",
              "      [theme=dark] .colab-df-generate:hover {\n",
              "        background-color: #434B5C;\n",
              "        box-shadow: 0px 1px 3px 1px rgba(0, 0, 0, 0.15);\n",
              "        filter: drop-shadow(0px 1px 2px rgba(0, 0, 0, 0.3));\n",
              "        fill: #FFFFFF;\n",
              "      }\n",
              "    </style>\n",
              "    <button class=\"colab-df-generate\" onclick=\"generateWithVariable('rules')\"\n",
              "            title=\"Generate code using this dataframe.\"\n",
              "            style=\"display:none;\">\n",
              "\n",
              "  <svg xmlns=\"http://www.w3.org/2000/svg\" height=\"24px\"viewBox=\"0 0 24 24\"\n",
              "       width=\"24px\">\n",
              "    <path d=\"M7,19H8.4L18.45,9,17,7.55,7,17.6ZM5,21V16.75L18.45,3.32a2,2,0,0,1,2.83,0l1.4,1.43a1.91,1.91,0,0,1,.58,1.4,1.91,1.91,0,0,1-.58,1.4L9.25,21ZM18.45,9,17,7.55Zm-12,3A5.31,5.31,0,0,0,4.9,8.1,5.31,5.31,0,0,0,1,6.5,5.31,5.31,0,0,0,4.9,4.9,5.31,5.31,0,0,0,6.5,1,5.31,5.31,0,0,0,8.1,4.9,5.31,5.31,0,0,0,12,6.5,5.46,5.46,0,0,0,6.5,12Z\"/>\n",
              "  </svg>\n",
              "    </button>\n",
              "    <script>\n",
              "      (() => {\n",
              "      const buttonEl =\n",
              "        document.querySelector('#id_13408c17-c61d-488d-87ff-6057dcb975b8 button.colab-df-generate');\n",
              "      buttonEl.style.display =\n",
              "        google.colab.kernel.accessAllowed ? 'block' : 'none';\n",
              "\n",
              "      buttonEl.onclick = () => {\n",
              "        google.colab.notebook.generateWithVariable('rules');\n",
              "      }\n",
              "      })();\n",
              "    </script>\n",
              "  </div>\n",
              "\n",
              "    </div>\n",
              "  </div>\n"
            ],
            "application/vnd.google.colaboratory.intrinsic+json": {
              "type": "dataframe",
              "variable_name": "rules",
              "summary": "{\n  \"name\": \"rules\",\n  \"rows\": 122,\n  \"fields\": [\n    {\n      \"column\": \"antecedents\",\n      \"properties\": {\n        \"dtype\": \"string\",\n        \"num_unique_values\": 113,\n        \"samples\": [\n          \"frozenset({64, 30, 31})\",\n          \"frozenset({16, 15})\",\n          \"frozenset({64, 9, 16})\"\n        ],\n        \"semantic_type\": \"\",\n        \"description\": \"\"\n      }\n    },\n    {\n      \"column\": \"consequents\",\n      \"properties\": {\n        \"dtype\": \"category\",\n        \"num_unique_values\": 5,\n        \"samples\": [\n          \"frozenset({0})\",\n          \"frozenset({16})\",\n          \"frozenset({7})\"\n        ],\n        \"semantic_type\": \"\",\n        \"description\": \"\"\n      }\n    },\n    {\n      \"column\": \"antecedent support\",\n      \"properties\": {\n        \"dtype\": \"number\",\n        \"std\": 0.013522607403362506,\n        \"min\": 0.009446633734806016,\n        \"max\": 0.08820558361547427,\n        \"num_unique_values\": 113,\n        \"samples\": [\n          0.013609368929344508,\n          0.03224732197369151,\n          0.01073430648831659\n        ],\n        \"semantic_type\": \"\",\n        \"description\": \"\"\n      }\n    },\n    {\n      \"column\": \"consequent support\",\n      \"properties\": {\n        \"dtype\": \"number\",\n        \"std\": 0.15811027723108667,\n        \"min\": 0.06236332352777932,\n        \"max\": 0.4109452184048399,\n        \"num_unique_values\": 5,\n        \"samples\": [\n          0.4109452184048399,\n          0.27180995726258533,\n          0.06236332352777932\n        ],\n        \"semantic_type\": \"\",\n        \"description\": \"\"\n      }\n    },\n    {\n      \"column\": \"support\",\n      \"properties\": {\n        \"dtype\": \"number\",\n        \"std\": 0.010434801219796511,\n        \"min\": 0.00800355220069934,\n        \"max\": 0.06615973802519842,\n        \"num_unique_values\": 92,\n        \"samples\": [\n          0.009213520563911861,\n          0.012543708719542654,\n          0.00869179108619637\n        ],\n        \"semantic_type\": \"\",\n        \"description\": \"\"\n      }\n    },\n    {\n      \"column\": \"confidence\",\n      \"properties\": {\n        \"dtype\": \"number\",\n        \"std\": 0.035228064736836255,\n        \"min\": 0.7500629247420085,\n        \"max\": 0.9028571428571428,\n        \"num_unique_values\": 122,\n        \"samples\": [\n          0.8097032501177579,\n          0.8222836095764272,\n          0.8294627383015598\n        ],\n        \"semantic_type\": \"\",\n        \"description\": \"\"\n      }\n    },\n    {\n      \"column\": \"lift\",\n      \"properties\": {\n        \"dtype\": \"number\",\n        \"std\": 4.545005356281494,\n        \"min\": 1.825213899929331,\n        \"max\": 13.920551680430641,\n        \"num_unique_values\": 122,\n        \"samples\": [\n          11.431142028970102,\n          2.000956752260736,\n          2.018426547268936\n        ],\n        \"semantic_type\": \"\",\n        \"description\": \"\"\n      }\n    },\n    {\n      \"column\": \"leverage\",\n      \"properties\": {\n        \"dtype\": \"number\",\n        \"std\": 0.007158921227673078,\n        \"min\": 0.0037402933935135147,\n        \"max\": 0.043703831187980685,\n        \"num_unique_values\": 122,\n        \"samples\": [\n          0.017412680516232706,\n          0.004958799942413763,\n          0.013403153076561437\n        ],\n        \"semantic_type\": \"\",\n        \"description\": \"\"\n      }\n    },\n    {\n      \"column\": \"conviction\",\n      \"properties\": {\n        \"dtype\": \"number\",\n        \"std\": 1.3790675459497146,\n        \"min\": 2.356812333612861,\n        \"max\": 9.564953361041365,\n        \"num_unique_values\": 122,\n        \"samples\": [\n          4.882726050259464,\n          3.3145776829655116,\n          3.454111879882189\n        ],\n        \"semantic_type\": \"\",\n        \"description\": \"\"\n      }\n    },\n    {\n      \"column\": \"zhangs_metric\",\n      \"properties\": {\n        \"dtype\": \"number\",\n        \"std\": 0.20215417538702465,\n        \"min\": 0.4588084284477643,\n        \"max\": 0.9686085632918292,\n        \"num_unique_values\": 122,\n        \"samples\": [\n          0.9345437243188426,\n          0.5063431831153984,\n          0.5212580318359742\n        ],\n        \"semantic_type\": \"\",\n        \"description\": \"\"\n      }\n    }\n  ]\n}"
            }
          },
          "metadata": {},
          "execution_count": 15
        }
      ]
    },
    {
      "cell_type": "code",
      "source": [],
      "metadata": {
        "colab": {
          "base_uri": "https://localhost:8080/"
        },
        "id": "La2Se_idPfT3",
        "outputId": "e66f0cba-d67c-4fc9-d62c-32be1946f1f3"
      },
      "execution_count": null,
      "outputs": [
        {
          "output_type": "stream",
          "name": "stderr",
          "text": [
            "/usr/local/lib/python3.10/dist-packages/ipykernel/ipkernel.py:283: DeprecationWarning: `should_run_async` will not call `transform_cell` automatically in the future. Please pass the result to `transformed_cell` argument and any exception that happen during thetransform in `preprocessing_exc_tuple` in IPython 7.17 and above.\n",
            "  and should_run_async(code)\n"
          ]
        }
      ]
    },
    {
      "cell_type": "code",
      "source": [
        "# Define a function to decode a frozenset of product IDs\n",
        "def decode_itemset(itemset, product_decoder):\n",
        "    return {product_decoder[item] for item in itemset}\n",
        "\n",
        "# Assuming 'antecedents' and 'consequents' are already in a format that decode_itemset can handle\n",
        "# Decode the 'antecedents' and 'consequents' columns using the product_decoder\n",
        "rules['antecedents_decoded'] = rules['antecedents'].apply(lambda x: decode_itemset(x, product_decoder))\n",
        "rules['consequents_decoded'] = rules['consequents'].apply(lambda x: decode_itemset(x, product_decoder))\n",
        "\n",
        "# Reorder the columns to place 'antecedents_decoded' as the second column and 'consequents_decoded' as the fourth column\n",
        "cols = rules.columns.tolist()\n",
        "\n",
        "# Insert 'antecedents_decoded' after 'antecedents' (second column) and 'consequents_decoded' after 'consequents' (fourth column)\n",
        "cols.insert(1, cols.pop(cols.index('antecedents_decoded')))  # Move 'antecedents_decoded' to second column\n",
        "cols.insert(3, cols.pop(cols.index('consequents_decoded')))  # Move 'consequents_decoded' to fourth column\n",
        "\n",
        "# Reorder the DataFrame based on the new column order\n",
        "rules = rules[cols]\n",
        "\n",
        "# Display the updated DataFrame to verify\n",
        "print(rules.head())"
      ],
      "metadata": {
        "colab": {
          "base_uri": "https://localhost:8080/"
        },
        "id": "6nmpJSuPlZ1n",
        "outputId": "4f62ab4e-1618-4eb5-ee01-ec74fa8e82c1"
      },
      "execution_count": null,
      "outputs": [
        {
          "output_type": "stream",
          "name": "stdout",
          "text": [
            "  antecedents     antecedents_decoded consequents consequents_decoded  \\\n",
            "0         (7)                   {شبت}         (9)       {كزبرة خضراء}   \n",
            "1      (0, 7)      {شبت, طماطم  فاخر}         (9)       {كزبرة خضراء}   \n",
            "2     (16, 9)     {كزبرة خضراء, خيار}         (0)       {طماطم  فاخر}   \n",
            "3    (16, 12)  {فلفل رومي اخضر, خيار}         (0)       {طماطم  فاخر}   \n",
            "4    (16, 15)  {خيار, فلفل حامي اخضر}         (0)       {طماطم  فاخر}   \n",
            "\n",
            "   antecedent support  consequent support   support  confidence       lift  \\\n",
            "0            0.062363            0.070833  0.048121    0.771627  10.893592   \n",
            "1            0.036033            0.070833  0.028007    0.777264  10.973179   \n",
            "2            0.027119            0.410945  0.020492    0.755628   1.838757   \n",
            "3            0.075806            0.410945  0.058967    0.777859   1.892854   \n",
            "4            0.032247            0.410945  0.025587    0.793460   1.930816   \n",
            "\n",
            "   leverage  conviction  zhangs_metric  \n",
            "0  0.043704    4.068636       0.968609  \n",
            "1  0.025455    4.171612       0.942842  \n",
            "2  0.009347    2.410487       0.468869  \n",
            "3  0.027814    2.651717       0.510388  \n",
            "4  0.012335    2.852007       0.498148  \n"
          ]
        },
        {
          "output_type": "stream",
          "name": "stderr",
          "text": [
            "/usr/local/lib/python3.10/dist-packages/ipykernel/ipkernel.py:283: DeprecationWarning: `should_run_async` will not call `transform_cell` automatically in the future. Please pass the result to `transformed_cell` argument and any exception that happen during thetransform in `preprocessing_exc_tuple` in IPython 7.17 and above.\n",
            "  and should_run_async(code)\n"
          ]
        }
      ]
    },
    {
      "cell_type": "code",
      "source": [
        "rules.to_excel('association_rules (Organic).xlsx', index=False)"
      ],
      "metadata": {
        "colab": {
          "base_uri": "https://localhost:8080/"
        },
        "id": "Z1jJd0HjldTw",
        "outputId": "aec31637-1c07-481f-e352-2b2174222794"
      },
      "execution_count": null,
      "outputs": [
        {
          "output_type": "stream",
          "name": "stderr",
          "text": [
            "/usr/local/lib/python3.10/dist-packages/ipykernel/ipkernel.py:283: DeprecationWarning: `should_run_async` will not call `transform_cell` automatically in the future. Please pass the result to `transformed_cell` argument and any exception that happen during thetransform in `preprocessing_exc_tuple` in IPython 7.17 and above.\n",
            "  and should_run_async(code)\n"
          ]
        }
      ]
    },
    {
      "cell_type": "code",
      "source": [],
      "metadata": {
        "colab": {
          "base_uri": "https://localhost:8080/"
        },
        "id": "M8VRS5w4l8oJ",
        "outputId": "d2e9e54d-68e4-4179-b098-aca8bb24549d"
      },
      "execution_count": null,
      "outputs": [
        {
          "output_type": "stream",
          "name": "stderr",
          "text": [
            "/usr/local/lib/python3.10/dist-packages/ipykernel/ipkernel.py:283: DeprecationWarning: `should_run_async` will not call `transform_cell` automatically in the future. Please pass the result to `transformed_cell` argument and any exception that happen during thetransform in `preprocessing_exc_tuple` in IPython 7.17 and above.\n",
            "  and should_run_async(code)\n"
          ]
        }
      ]
    }
  ]
}